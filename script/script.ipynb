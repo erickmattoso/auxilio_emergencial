{
 "cells": [
  {
   "source": [
    "# Bibliotecas"
   ],
   "cell_type": "markdown",
   "metadata": {}
  },
  {
   "cell_type": "code",
   "execution_count": 2,
   "metadata": {},
   "outputs": [],
   "source": [
    "import requests\n",
    "import pandas as pd\n",
    "import time\n",
    "import numpy as np"
   ]
  },
  {
   "source": [
    "# Leituras de Bases"
   ],
   "cell_type": "markdown",
   "metadata": {}
  },
  {
   "cell_type": "code",
   "execution_count": null,
   "metadata": {},
   "outputs": [],
   "source": [
    "test  = pd.read_excel(\"../data/raw/RELATORIO_DTB_BRASIL_MUNICIPIO.xls\")\n",
    "count = pd.read_csv(\"../data/raw/count.csv\")"
   ]
  },
  {
   "cell_type": "code",
   "execution_count": 9,
   "metadata": {},
   "outputs": [
    {
     "output_type": "stream",
     "name": "stdout",
     "text": [
      "df38e8000ab4590860fbce0f8b0ee9af\na1d3c690134af33789cca03084266dc7\n"
     ]
    }
   ],
   "source": [
    "key = pd.read_csv(\"../data/raw/key.txt\", header=None,sep='\\t')\n",
    "print(key.loc[1,0])\n",
    "print(key.loc[3,0])\n",
    "key=key.loc[3,0]"
   ]
  },
  {
   "source": [
    "# Listas"
   ],
   "cell_type": "markdown",
   "metadata": {}
  },
  {
   "source": [
    "codIBGE = test['Código Município Completo'].to_list()"
   ],
   "cell_type": "code",
   "metadata": {},
   "execution_count": null,
   "outputs": []
  },
  {
   "cell_type": "code",
   "execution_count": null,
   "metadata": {},
   "outputs": [],
   "source": [
    "batch = np.array_split(codIBGE, int(len(codIBGE)/round(len(codIBGE)/20)))"
   ]
  },
  {
   "cell_type": "code",
   "execution_count": null,
   "metadata": {},
   "outputs": [],
   "source": [
    "period_list = [202004, 202005, 202006, 202007, 202008, 202009, 202010, 202011, 202012]"
   ]
  },
  {
   "source": [
    "# Requisição"
   ],
   "cell_type": "markdown",
   "metadata": {}
  },
  {
   "cell_type": "code",
   "execution_count": null,
   "metadata": {},
   "outputs": [],
   "source": [
    "irl = \"http://api.portaldatransparencia.gov.br/api-de-dados/\"\n",
    "url = \"auxilio-emergencial-por-municipio?\"\n",
    "\n",
    "x=count[\"count\"].max()\n",
    "print(x)\n",
    "\n",
    "for i, list_batch in enumerate(batch[0:]):\n",
    "    results=[]\n",
    "    error = []\n",
    "    \n",
    "    for mesAno in (period_list):\n",
    "        print(mesAno)\n",
    "\n",
    "        for codigoIbge in (list_batch):\n",
    "           \n",
    "            pagina = 1\n",
    "            seconds=0.7\n",
    "            url = irl+url+f\"codigoIbge={codigoIbge}&mesAno={mesAno}&pagina={pagina}\"\n",
    "            headers = {\"chave-api-dados\":key}\n",
    "            print(url)\n",
    "            \n",
    "            try:\n",
    "                resultado = requests.get(url, time.sleep(seconds), headers=headers)\n",
    "                results.append(rJson)\n",
    "                print(codigoIbge)\n",
    "                \n",
    "            except:\n",
    "                error.append(codigoIbge)\n",
    "                print('error')\n",
    "\n",
    "        pd.DataFrame(results).to_csv('data/df_transparencia_true_' +str(i)+'.csv')\n",
    "        pd.DataFrame(error).to_csv('data/df_transparencia_error_'+str(i)+'.csv')"
   ]
  },
  {
   "cell_type": "code",
   "execution_count": null,
   "metadata": {},
   "outputs": [],
   "source": []
  }
 ],
 "metadata": {
  "kernelspec": {
   "name": "python369jvsc74a57bd0e1774b2903990f8e53f6f0a4c9a01f51331396be6fcb42d5b0af66774e5eab83",
   "display_name": "Python 3.6.9 64-bit ('ddf': conda)"
  },
  "language_info": {
   "codemirror_mode": {
    "name": "ipython",
    "version": 3
   },
   "file_extension": ".py",
   "mimetype": "text/x-python",
   "name": "python",
   "nbconvert_exporter": "python",
   "pygments_lexer": "ipython3",
   "version": "3.6.9-final"
  }
 },
 "nbformat": 4,
 "nbformat_minor": 4
}