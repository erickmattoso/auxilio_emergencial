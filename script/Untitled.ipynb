{
 "cells": [
  {
   "cell_type": "code",
   "execution_count": 1,
   "metadata": {},
   "outputs": [],
   "source": [
    "import pandas as pd\n",
    "import zipfile"
   ]
  },
  {
   "cell_type": "code",
   "execution_count": null,
   "metadata": {},
   "outputs": [],
   "source": [
    "zf = zipfile.ZipFile(    '202004_AuxilioEmergencial.zip') \n",
    "df = pd.read_csv(zf.open('202004_AuxilioEmergencial.csv'), encoding='latin1',sep=';')\n",
    "# df = pd.read_csv(('202004_AuxilioEmergencial.csv'), encoding='latin1',sep=';')"
   ]
  },
  {
   "cell_type": "code",
   "execution_count": null,
   "metadata": {},
   "outputs": [],
   "source": [
    "df['test'] = df['CPF BENEFICIÁRIO'] + df['NOME BENEFICIÁRIO']"
   ]
  },
  {
   "cell_type": "code",
   "execution_count": null,
   "metadata": {},
   "outputs": [],
   "source": [
    "df[df['test']=='***.000.000-**MARIA JOSE DA SILVA']"
   ]
  },
  {
   "cell_type": "code",
   "execution_count": 17,
   "metadata": {},
   "outputs": [
    {
     "data": {
      "text/plain": [
       "***.000.000-**MARIA JOSE DA SILVA             102\n",
       "***.000.000-**MARIA APARECIDA DA SILVA         92\n",
       "***.000.000-**JOSE CARLOS DA SILVA             82\n",
       "***.000.000-**MARIA EDUARDA DA SILVA           72\n",
       "***.000.000-**JOSE CARLOS DOS SANTOS           47\n",
       "                                             ... \n",
       "***.828.913-**FRANCISCA ALVES VIEIRA COSTA      1\n",
       "***.787.984-**ELANIA SARMENTO SOARES SILVA      1\n",
       "***.505.874-**RONALDO JOSE DA SILVA             1\n",
       "***.652.098-**WILLIANS DA SILVA                 1\n",
       "***.499.534-**JOCEMAR DA COSTA SILVA            1\n",
       "Name: test, Length: 49025705, dtype: int64"
      ]
     },
     "execution_count": 17,
     "metadata": {},
     "output_type": "execute_result"
    }
   ],
   "source": [
    "df['test'].value_counts()"
   ]
  },
  {
   "cell_type": "code",
   "execution_count": null,
   "metadata": {},
   "outputs": [],
   "source": [
    "df[df['test'].isin(df['test'].value_counts()[df['test'].value_counts()==1].index)]"
   ]
  },
  {
   "cell_type": "code",
   "execution_count": null,
   "metadata": {},
   "outputs": [],
   "source": [
    "mask1 = df['CPF BENEFICIÁRIO'].str.contains('996.318', na=False)\n",
    "df[mask1]"
   ]
  },
  {
   "cell_type": "code",
   "execution_count": null,
   "metadata": {},
   "outputs": [],
   "source": [
    "df['NOME BENEFICIÁRIO'].value_counts()"
   ]
  },
  {
   "cell_type": "code",
   "execution_count": null,
   "metadata": {},
   "outputs": [],
   "source": [
    "df[df['NOME BENEFICIÁRIO'].isin(df['NOME BENEFICIÁRIO'].value_counts()[df['NOME BENEFICIÁRIO'].value_counts()==1].index)]\n"
   ]
  },
  {
   "cell_type": "code",
   "execution_count": null,
   "metadata": {},
   "outputs": [],
   "source": [
    "ssss"
   ]
  },
  {
   "cell_type": "code",
   "execution_count": null,
   "metadata": {},
   "outputs": [],
   "source": [
    "mask1 = df['NOME BENEFICIÁRIO'].str.contains(f'IZAGUIRRE')\n",
    "mask2 = df['NOME BENEFICIÁRIO'].str.contains(f'PATR.CIA')\n",
    "mask3 = df['UF'].str.contains(f'SP')\n",
    "\n",
    "df[mask1&mask2&mask3]"
   ]
  },
  {
   "cell_type": "code",
   "execution_count": null,
   "metadata": {},
   "outputs": [],
   "source": [
    "df_ = df[['UF', 'NOME MUNICÍPIO', 'CPF BENEFICIÁRIO', 'NOME BENEFICIÁRIO']]"
   ]
  },
  {
   "cell_type": "code",
   "execution_count": null,
   "metadata": {},
   "outputs": [],
   "source": [
    "mask1 = df_['NOME BENEFICIÁRIO'].str.contains(f'JUSSARA')\n",
    "mask2 = df_['NOME BENEFICIÁRIO'].str.contains(f'MATTOSO')\n",
    "mask3 = df_['UF'].str.contains(f'RS')\n",
    "\n",
    "df_[mask1&mask2&mask3]"
   ]
  }
 ],
 "metadata": {
  "kernelspec": {
   "display_name": "Python 3",
   "language": "python",
   "name": "python3"
  },
  "language_info": {
   "codemirror_mode": {
    "name": "ipython",
    "version": 3
   },
   "file_extension": ".py",
   "mimetype": "text/x-python",
   "name": "python",
   "nbconvert_exporter": "python",
   "pygments_lexer": "ipython3",
   "version": "3.6.9"
  }
 },
 "nbformat": 4,
 "nbformat_minor": 4
}
